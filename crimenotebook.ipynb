{
    "cells": [
        {
            "cell_type": "code",
            "execution_count": 42,
            "metadata": {},
            "outputs": [
                {
                    "data": {
                        "text/plain": "Index(['Report_Id', 'Crime_Type', 'Unnamed: 2', 'Crime_Detail', 'Year_Key',\n       'Street_Address', 'Datetime'],\n      dtype='object')"
                    },
                    "execution_count": 42,
                    "metadata": {},
                    "output_type": "execute_result"
                }
            ],
            "source": "# The code was removed by Watson Studio for sharing."
        },
        {
            "cell_type": "code",
            "execution_count": 44,
            "metadata": {},
            "outputs": [
                {
                    "data": {
                        "text/plain": "Street_Address                        Crime_Type                  Datetime             \n0 BLOCK  ARLINGTON RD                 Assault                     4/26/2020 @ 2:45 PM      1\n0 BLOCK  BROADWAY ST                  Theft / Larceny             2/18/2020 @ 12:00 PM     1\n                                      Vehicle Break-In / Theft    11/11/2019 @ 9:00 PM     1\n0 BLOCK  CHISHOLM ST                  Assault                     12/28/2019 @ 10:00 AM    1\n0 BLOCK  COMMERCE ST                  Fraud                       1/24/2020 @ 12:00 AM     1\n                                                                  1/9/2020 @ 7:08 AM       1\n                                      Motor Vehicle Theft         1/19/2020 @ 2:00 PM      1\n                                      Sex Crimes                  2/23/2020 @ 2:35 AM      1\n                                      Vandalism                   1/5/2020 @ 2:00 PM       1\n                                                                  12/31/2019 @ 5:00 PM     1\n0 BLOCK  COX LN                       Drugs / Alcohol Violations  11/30/2019 @ 8:25 PM     1\n0 BLOCK  DEXTER AV                    Fraud                       11/28/2019 @ 8:00 AM     1\n                                                                  3/6/2020 @ 12:01 AM      1\n                                      Theft / Larceny             5/22/2020 @ 1:00 AM      1\n0 BLOCK  DEXTER AVE                   Assault                     11/17/2019 @ 4:00 PM     1\n0 BLOCK  EARLY ST                     Vandalism                   5/12/2020 @ 8:00 AM      1\n0 BLOCK  FELDER AV                    Vandalism                   1/2/2020 @ 7:00 PM       1\n0 BLOCK  GARDEN ST                    Theft / Larceny             3/8/2020 @ 6:00 PM       1\n                                      Vandalism                   3/6/2020 @ 5:00 PM       1\n0 BLOCK  HOWARD ST                    Burglary                    4/26/2020 @ 4:00 PM      1\n                                      Vandalism                   12/21/2019 @ 9:30 AM     1\n                                                                  2/26/2020 @ 7:00 PM      1\n                                      Weapons                     4/28/2020 @ 7:00 PM      1\n0 BLOCK  MARKET PLAZA                 Robbery                     4/24/2020 @ 11:00 AM     1\n0 BLOCK  MARSHALL ST                  Vandalism                   11/17/2019 @ 8:00 PM     1\n0 BLOCK  MICHIGAN AV                  Assault                     5/22/2020 @ 9:00 AM      1\n                                      Motor Vehicle Theft         1/26/2020 @ 12:01 AM     1\n                                                                  12/18/2019 @ 11:00 PM    1\n                                      Theft / Larceny             2/4/2020 @ 6:00 AM       1\n                                      Vandalism                   3/27/2020 @ 7:53 PM      1\n                                                                                          ..\nS COURT ST                            Drugs / Alcohol Violations  3/15/2020 @ 12:26 AM     1\n                                                                  5/16/2020 @ 11:34 PM     1\n                                      Fraud                       6/13/2020 @ 12:21 AM     1\n                                      Vandalism                   12/19/2019 @ 4:50 PM     1\n                                                                  4/22/2020 @ 5:00 PM      1\n                                                                  6/16/2020 @ 7:30 PM      1\nS HOLT ST                             Assault                     3/20/2020 @ 7:20 AM      1\nS HOLT ST / EARLY ST                  Drugs / Alcohol Violations  3/17/2020 @ 7:28 PM      1\nS HOPPER ST                           Vehicle Break-In / Theft    5/24/2020 @ 10:37 PM     1\nS. UNION ST & S. DECATUR ST           Assault                     1/20/2020 @ 2:00 AM      1\nSAMPSON ST                            Theft / Larceny             4/3/2020 @ 4:00 PM       1\nSTELLA ST  &  JORDAN ST               Homicide                    1/23/2020 @ 3:06 PM      1\nSTONE ST / ROSA L PARKS AVE           Vandalism                   4/23/2020 @ 4:20 PM      1\nSUMTER AVE                            Drugs / Alcohol Violations  3/31/2020 @ 10:49 AM     1\nSUMTER AVE  &  MARLBOROUGH ST         Drugs / Alcohol Violations  6/1/2020 @ 10:40 PM      1\nTERMINAL RD  &  DAY STREET RD         Drugs / Alcohol Violations  1/27/2020 @ 3:26 PM      1\nTEXAS ST                              Assault                     2/8/2020 @ 12:50 PM      1\nTYLER RD                              Motor Vehicle Theft         2/26/2020 @ 6:00 AM      1\nUPPER WETUMPKA RD                     Drugs / Alcohol Violations  4/9/2020 @ 7:10 PM       1\nVICTOR TULANE CIR                     Weapons                     3/26/2020 @ 8:03 PM      1\nW  FAIRVIEW AVE  &  MOORELAND RD      Drugs / Alcohol Violations  1/30/2020 @ 12:50 PM     1\nW  FAIRVIEW AVE  &  ROSA L PARKS AVE  Assault                     3/27/2020 @ 11:30 PM     1\n                                      Fraud                       4/12/2020 @ 2:38 AM      1\nW JEFF DAVIS AVE                      Assault                     6/7/2020 @ 11:50 AM      1\n                                      Vandalism                   5/23/2020 @ 6:00 PM      1\nW VANDIVER BLVD                       Vandalism                   3/12/2020 @ 8:00 PM      1\nWESTMORELAND AVE                      Theft / Larceny             3/16/2020 @ 1:10 PM      1\nWOODLEY RD                            Theft / Larceny             4/11/2020 @ 8:00 AM      1\nYARBROUGH ST  &  COTTON ST            Robbery                     5/19/2020 @ 3:30 AM      1\nYARBROUGH ST  &  LOWER WETUMPKA RD    Drugs / Alcohol Violations  3/6/2020 @ 5:37 PM       1\nName: Datetime, Length: 1922, dtype: int64"
                    },
                    "execution_count": 44,
                    "metadata": {},
                    "output_type": "execute_result"
                }
            ],
            "source": "\ndf_data_1.groupby(['Street_Address','Crime_Type','Datetime'])['Datetime'].count()\n"
        },
        {
            "cell_type": "code",
            "execution_count": null,
            "metadata": {},
            "outputs": [],
            "source": ""
        }
    ],
    "metadata": {
        "kernelspec": {
            "display_name": "Python 3.6",
            "language": "python",
            "name": "python3"
        },
        "language_info": {
            "codemirror_mode": {
                "name": "ipython",
                "version": 3
            },
            "file_extension": ".py",
            "mimetype": "text/x-python",
            "name": "python",
            "nbconvert_exporter": "python",
            "pygments_lexer": "ipython3",
            "version": "3.6.9"
        }
    },
    "nbformat": 4,
    "nbformat_minor": 1
}